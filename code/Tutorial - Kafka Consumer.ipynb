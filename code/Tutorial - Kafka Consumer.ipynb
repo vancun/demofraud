{
 "cells": [
  {
   "cell_type": "code",
   "execution_count": 10,
   "metadata": {},
   "outputs": [],
   "source": [
    "# See https://docs.confluent.io/current/clients/confluent-kafka-python/#producer\n",
    "# See https://github.com/confluentinc/confluent-kafka-python/tree/master/examples\n",
    "\n",
    "from confluent_kafka import Consumer\n",
    "from random import random\n",
    "from time import sleep\n",
    "import sys\n",
    "\n",
    "c = Consumer({\n",
    "    'bootstrap.servers': 'localhost:9092',\n",
    "    'group.id': 'test-consumer'\n",
    "})\n",
    "topics = 'ccfraud'\n",
    "end_marker = '===== END'"
   ]
  },
  {
   "cell_type": "code",
   "execution_count": 11,
   "metadata": {},
   "outputs": [],
   "source": [
    "def handle_on_assign(consumer, partitions):\n",
    "    print('Assignment:', partitions)"
   ]
  },
  {
   "cell_type": "code",
   "execution_count": 12,
   "metadata": {},
   "outputs": [],
   "source": [
    "c.subscribe(topics.split(','), on_assign=handle_on_assign)"
   ]
  },
  {
   "cell_type": "code",
   "execution_count": 13,
   "metadata": {},
   "outputs": [
    {
     "name": "stdout",
     "output_type": "stream",
     "text": [
      "Assignment: [TopicPartition{topic=ccfraud,partition=%I32d,offset=%s,error=%s}]\n"
     ]
    },
    {
     "name": "stderr",
     "output_type": "stream",
     "text": [
      "% ccfraud [0] at offset 55 with key None:\n"
     ]
    },
    {
     "name": "stdout",
     "output_type": "stream",
     "text": [
      "b'===== BEGIN'\n"
     ]
    },
    {
     "name": "stderr",
     "output_type": "stream",
     "text": [
      "% ccfraud [0] at offset 56 with key None:\n"
     ]
    },
    {
     "name": "stdout",
     "output_type": "stream",
     "text": [
      "b'Alice was beginning to get very tired of sitting by her sister on the'\n"
     ]
    },
    {
     "name": "stderr",
     "output_type": "stream",
     "text": [
      "% ccfraud [0] at offset 57 with key None:\n"
     ]
    },
    {
     "name": "stdout",
     "output_type": "stream",
     "text": [
      "b'bank, and of having nothing to do. Once or twice she had peeped into the'\n"
     ]
    },
    {
     "name": "stderr",
     "output_type": "stream",
     "text": [
      "% ccfraud [0] at offset 58 with key None:\n"
     ]
    },
    {
     "name": "stdout",
     "output_type": "stream",
     "text": [
      "b'book her sister was reading, but it had no pictures or conversations in'\n"
     ]
    },
    {
     "name": "stderr",
     "output_type": "stream",
     "text": [
      "% ccfraud [0] at offset 59 with key None:\n"
     ]
    },
    {
     "name": "stdout",
     "output_type": "stream",
     "text": [
      "b'it, \"and what is the use of a book,\" thought Alice, \"without pictures or'\n"
     ]
    },
    {
     "name": "stderr",
     "output_type": "stream",
     "text": [
      "% ccfraud [0] at offset 60 with key None:\n"
     ]
    },
    {
     "name": "stdout",
     "output_type": "stream",
     "text": [
      "b'conversations?\"'\n"
     ]
    },
    {
     "name": "stderr",
     "output_type": "stream",
     "text": [
      "% ccfraud [0] at offset 61 with key None:\n"
     ]
    },
    {
     "name": "stdout",
     "output_type": "stream",
     "text": [
      "b''\n",
      "b'===== END'\n"
     ]
    },
    {
     "name": "stderr",
     "output_type": "stream",
     "text": [
      "% ccfraud [0] at offset 62 with key None:\n",
      "%% End marker found. Exiting\n"
     ]
    }
   ],
   "source": [
    " # Read messages from Kafka, print to stdout\n",
    "try:\n",
    "    while True:\n",
    "        msg = c.poll(timeout=1.0)\n",
    "        if msg is None:\n",
    "            continue\n",
    "        if msg.error():\n",
    "            raise KafkaException(msg.error())\n",
    "        else:\n",
    "            # Proper message\n",
    "            sys.stderr.write('%% %s [%d] at offset %d with key %s:\\n' %\n",
    "                             (msg.topic(), msg.partition(), msg.offset(),\n",
    "                              str(msg.key())))\n",
    "            print(msg.value())\n",
    "            \n",
    "        if msg.value().decode() == end_marker:\n",
    "            sys.stderr.write('%% End marker found. Exiting\\n')\n",
    "            break\n",
    "\n",
    "except KeyboardInterrupt:\n",
    "    sys.stderr.write('%% Aborted by user\\n')\n",
    "\n",
    "finally:\n",
    "    # Close down consumer to commit final offsets.\n",
    "    c.close()"
   ]
  },
  {
   "cell_type": "code",
   "execution_count": null,
   "metadata": {},
   "outputs": [],
   "source": []
  }
 ],
 "metadata": {
  "kernelspec": {
   "display_name": "Python 3",
   "language": "python",
   "name": "python3"
  },
  "language_info": {
   "codemirror_mode": {
    "name": "ipython",
    "version": 3
   },
   "file_extension": ".py",
   "mimetype": "text/x-python",
   "name": "python",
   "nbconvert_exporter": "python",
   "pygments_lexer": "ipython3",
   "version": "3.7.1"
  }
 },
 "nbformat": 4,
 "nbformat_minor": 2
}
