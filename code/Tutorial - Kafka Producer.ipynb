{
 "cells": [
  {
   "cell_type": "code",
   "execution_count": 1,
   "metadata": {},
   "outputs": [],
   "source": [
    "# See https://docs.confluent.io/current/clients/confluent-kafka-python/#producer\n",
    "# See https://archive.org/stream/alicesadventures19033gut/19033.txt\n",
    "\n",
    "from confluent_kafka import Producer\n",
    "from random import random\n",
    "from time import sleep\n",
    "import sys"
   ]
  },
  {
   "cell_type": "code",
   "execution_count": 2,
   "metadata": {},
   "outputs": [],
   "source": [
    "p = Producer({'bootstrap.servers': 'localhost:9092'})\n",
    "kafka_topic = 'ccfraud'"
   ]
  },
  {
   "cell_type": "code",
   "execution_count": 3,
   "metadata": {},
   "outputs": [],
   "source": [
    "messages = \"\"\"Alice was beginning to get very tired of sitting by her sister on the\n",
    "bank, and of having nothing to do. Once or twice she had peeped into the\n",
    "book her sister was reading, but it had no pictures or conversations in\n",
    "it, \"and what is the use of a book,\" thought Alice, \"without pictures or\n",
    "conversations?\"\n",
    "\"\"\".split(\"\\n\")"
   ]
  },
  {
   "cell_type": "code",
   "execution_count": 4,
   "metadata": {},
   "outputs": [],
   "source": [
    "def delivery_callback(err, msg):\n",
    "    if err:\n",
    "        sys.stderr.write('%% Message failed delivery: %s\\n' % err)\n",
    "    else:\n",
    "        sys.stderr.write('%% Message delivered to %s [%d] @ %o\\n' % (msg.topic(), msg.partition(), msg.offset()))\n"
   ]
  },
  {
   "cell_type": "code",
   "execution_count": 9,
   "metadata": {
    "scrolled": true
   },
   "outputs": [
    {
     "name": "stderr",
     "output_type": "stream",
     "text": [
      "% Message delivered to ccfraud [0] @ 137\n",
      "% Message delivered to ccfraud [0] @ 140\n",
      "% Message delivered to ccfraud [0] @ 141\n",
      "% Message delivered to ccfraud [0] @ 142\n",
      "% Message delivered to ccfraud [0] @ 143\n",
      "% Message delivered to ccfraud [0] @ 144\n",
      "% Message delivered to ccfraud [0] @ 145\n",
      "% Message delivered to ccfraud [0] @ 146\n",
      "% Waiting for 0 deliveries\n"
     ]
    },
    {
     "data": {
      "text/plain": [
       "0"
      ]
     },
     "execution_count": 9,
     "metadata": {},
     "output_type": "execute_result"
    }
   ],
   "source": [
    "buffer = [\"===== BEGIN\"]\n",
    "buffer.extend(messages)\n",
    "buffer.append(\"===== END\")\n",
    "\n",
    "for msg in buffer:\n",
    "    \n",
    "    try:\n",
    "        p.produce(kafka_topic, msg, callback=delivery_callback)\n",
    "        p.poll(5)\n",
    "    except BufferError as e:\n",
    "        sys.stderr.write('%% Local producer queue is full (%d messages awaiting delivery): try again\\n' % len(p))\n",
    "    \n",
    "    sleep(random()*2.0 + 1.0)\n",
    "\n",
    "# Wait until all messages have been delivered\n",
    "sys.stderr.write('%% Waiting for %d deliveries\\n' % len(p))\n",
    "p.flush()\n",
    "    "
   ]
  },
  {
   "cell_type": "code",
   "execution_count": null,
   "metadata": {},
   "outputs": [],
   "source": []
  }
 ],
 "metadata": {
  "kernelspec": {
   "display_name": "Python 3",
   "language": "python",
   "name": "python3"
  },
  "language_info": {
   "codemirror_mode": {
    "name": "ipython",
    "version": 3
   },
   "file_extension": ".py",
   "mimetype": "text/x-python",
   "name": "python",
   "nbconvert_exporter": "python",
   "pygments_lexer": "ipython3",
   "version": "3.7.1"
  }
 },
 "nbformat": 4,
 "nbformat_minor": 2
}
